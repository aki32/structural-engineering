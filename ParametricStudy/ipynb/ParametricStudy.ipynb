{
 "cells": [
  {
   "cell_type": "markdown",
   "id": "1f1fcc5a",
   "metadata": {},
   "source": [
    "# Parametric Study Helper"
   ]
  },
  {
   "cell_type": "markdown",
   "id": "a0cde1f0",
   "metadata": {},
   "source": [
    "description to be added"
   ]
  },
  {
   "cell_type": "code",
   "execution_count": null,
   "id": "84a80802",
   "metadata": {},
   "outputs": [],
   "source": []
  },
  {
   "cell_type": "markdown",
   "id": "ffb329be",
   "metadata": {},
   "source": [
    "## Initialize"
   ]
  },
  {
   "cell_type": "code",
   "execution_count": 9,
   "id": "bb966460-ed34-40e3-b43c-a027d28de3c2",
   "metadata": {},
   "outputs": [],
   "source": [
    "# -*- coding:utf8 -*-\n",
    "import pandas as pd\n",
    "import glob, os, openpyxl"
   ]
  },
  {
   "cell_type": "markdown",
   "id": "490f6dc6",
   "metadata": {},
   "source": [
    "## Merge"
   ]
  },
  {
   "cell_type": "code",
   "execution_count": 10,
   "id": "ebd709c1",
   "metadata": {},
   "outputs": [],
   "source": [
    "def MergeForOneWave(dataColumn:int, dataName:str):\n",
    "\n",
    "  print()\n",
    "  print(\"★★★★★ \" + dataName)\n",
    "\n",
    "  # ルートのフォルダ。\n",
    "  files = glob.glob(INPUT_DIR_PATH + R'\\*.NAP-AVDQRFMList.csv')\n",
    "  if(len(files) == 0):\n",
    "    return\n",
    "\n",
    "  # Excel (※A1セルの座標が(1,1))\n",
    "  wb = openpyxl.Workbook()\n",
    "  ws = wb.active\n",
    "  ws.title=\"All\"\n",
    "\n",
    "  # CsvからExcelにコピーさせる関数\n",
    "  def CopyCsvToExcelColumn(csvPath, targetCsvColumn, targetExcelColumn):\n",
    "    df = pd.read_csv(csvPath, encoding=\"SHIFT-JIS\", dtype=str, usecols=[targetCsvColumn])\n",
    "    for i in range(len(df)):\n",
    "      ws.cell(row=i+3, column=targetExcelColumn+1).value=df.iloc[i,0]\n",
    "\n",
    "  # 最初の1列を持ってくる。\n",
    "  CopyCsvToExcelColumn(files[0],0,0)\n",
    "\n",
    "  # それ以降の全てを持ってくる\n",
    "  for file in files:\n",
    "    print(file)\n",
    "    lastColumn = ws.max_column\n",
    "    CopyCsvToExcelColumn(file,dataColumn,lastColumn)\n",
    "    ws.cell(row=1, column=lastColumn+1).value=os.path.basename(file).replace(\".NAP-AVDQRFMList.csv\", \"\")\n",
    "\n",
    "  # 保存して終了\n",
    "  wb.save(fR\"{OUTPUT_DIR_PATH}\\{dataName}.xlsx\")\n",
    "  wb.close()"
   ]
  },
  {
   "cell_type": "code",
   "execution_count": 11,
   "id": "64d7bad2-b8eb-4394-bb9c-c9188533fe0f",
   "metadata": {},
   "outputs": [],
   "source": [
    "INPUT_DIR_PATH = R\"..\\# TestModel\\input\"\n",
    "OUTPUT_DIR_PATH = R\"..\\# TestModel\\output\"\n",
    "\n",
    "# INPUT_DIR_PATH = R\"F:\\e-defenseモデル\\model\"\n",
    "# OUTPUT_DIR_PATH = R\"C:\\Users\\aki32\\Dropbox\\Documents\\02 東大関連\\0 授業\\3 建築学専攻\\建築構造・材料演習\\# 演習\\e-defenseモデル\\calc\\集計処理\"\n",
    "\n",
    "TARGETS = [(1,\"PSV40\"),(3,\"PSV81\")]"
   ]
  },
  {
   "cell_type": "code",
   "execution_count": 12,
   "id": "cbd3563d",
   "metadata": {},
   "outputs": [
    {
     "name": "stdout",
     "output_type": "stream",
     "text": [
      "★ Process Started!\n",
      "\n",
      "★★★★★ PSV40\n",
      "..\\# TestModel\\input\\11.NAP-AVDQRFMList.csv\n",
      "..\\# TestModel\\input\\12.NAP-AVDQRFMList.csv\n",
      "..\\# TestModel\\input\\13.NAP-AVDQRFMList.csv\n",
      "..\\# TestModel\\input\\14.NAP-AVDQRFMList.csv\n",
      "\n",
      "★★★★★ PSV81\n",
      "..\\# TestModel\\input\\11.NAP-AVDQRFMList.csv\n",
      "..\\# TestModel\\input\\12.NAP-AVDQRFMList.csv\n",
      "..\\# TestModel\\input\\13.NAP-AVDQRFMList.csv\n",
      "..\\# TestModel\\input\\14.NAP-AVDQRFMList.csv\n",
      "\n",
      "★ Process Finished!\n"
     ]
    }
   ],
   "source": [
    "print(\"★ Process Started!\")\n",
    "for target in TARGETS:\n",
    "  MergeForOneWave(target[0],target[1])\n",
    "print()\n",
    "print(\"★ Process Finished!\")"
   ]
  },
  {
   "cell_type": "code",
   "execution_count": null,
   "id": "6b535de3-47c1-4c1c-8d24-d08b7cd9abe5",
   "metadata": {},
   "outputs": [],
   "source": []
  },
  {
   "cell_type": "markdown",
   "id": "b77db4ac",
   "metadata": {},
   "source": [
    "## Done"
   ]
  },
  {
   "cell_type": "code",
   "execution_count": null,
   "id": "48d7050b-3107-4446-903c-d99e1f29d1a0",
   "metadata": {},
   "outputs": [],
   "source": []
  }
 ],
 "metadata": {
  "interpreter": {
   "hash": "dfe435c2cc92a427c60ccf5c56fc8223912ede9784ecbffb655243598cc98b68"
  },
  "kernelspec": {
   "display_name": "Python 3.10.4 64-bit",
   "language": "python",
   "name": "python3"
  },
  "language_info": {
   "codemirror_mode": {
    "name": "ipython",
    "version": 3
   },
   "file_extension": ".py",
   "mimetype": "text/x-python",
   "name": "python",
   "nbconvert_exporter": "python",
   "pygments_lexer": "ipython3",
   "version": "3.10.4"
  }
 },
 "nbformat": 4,
 "nbformat_minor": 5
}
