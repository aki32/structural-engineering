{
 "cells": [
  {
   "cell_type": "markdown",
   "id": "1f1fcc5a",
   "metadata": {},
   "source": [
    "# RD Method"
   ]
  },
  {
   "cell_type": "markdown",
   "id": "a0cde1f0",
   "metadata": {},
   "source": [
    "description to be added"
   ]
  },
  {
   "cell_type": "code",
   "execution_count": null,
   "id": "f306acb4",
   "metadata": {},
   "outputs": [],
   "source": []
  },
  {
   "cell_type": "markdown",
   "id": "44d72e8a",
   "metadata": {},
   "source": [
    "## Initialize"
   ]
  },
  {
   "cell_type": "code",
   "execution_count": 1,
   "id": "d5fcbe35-7666-404f-b8cb-9719b66dd362",
   "metadata": {},
   "outputs": [],
   "source": [
    "import sys, math\n",
    "import pandas as pd\n",
    "import numpy as np\n",
    "import matplotlib.pyplot as plt"
   ]
  },
  {
   "cell_type": "code",
   "execution_count": 4,
   "id": "9f5d3980",
   "metadata": {},
   "outputs": [],
   "source": [
    "BASE_PATH = './# TestModel'\n",
    "\n",
    "INPUT_FILE_PATH = f'{BASE_PATH}/input.csv'\n",
    "OUTPUT_FILE_PATH = f'{BASE_PATH}/output.csv'"
   ]
  },
  {
   "cell_type": "markdown",
   "id": "622b6b8e",
   "metadata": {},
   "source": [
    "## Read Input"
   ]
  },
  {
   "cell_type": "code",
   "execution_count": 5,
   "id": "17a15f20-80ac-4442-bfde-ca33a362085a",
   "metadata": {},
   "outputs": [
    {
     "data": {
      "text/plain": [
       "[<matplotlib.lines.Line2D at 0x1c579e84460>]"
      ]
     },
     "execution_count": 5,
     "metadata": {},
     "output_type": "execute_result"
    },
    {
     "data": {
      "image/png": "[encoded data removed]",
      "text/plain": [
       "<Figure size 432x288 with 1 Axes>"
      ]
     },
     "metadata": {
      "needs_background": "light"
     },
     "output_type": "display_data"
    }
   ],
   "source": [
    "df = pd.read_csv(INPUT_FILE_PATH, sep=',', encoding=\"SHIFT-JIS\")\n",
    "inputHistory = np.array(df)\n",
    "inputT = inputHistory[:,0]\n",
    "inputV = inputHistory[:,1]\n",
    "plt.plot(inputT,inputV)"
   ]
  },
  {
   "cell_type": "markdown",
   "id": "f76f9db1",
   "metadata": {},
   "source": [
    "## Calc RD Method"
   ]
  },
  {
   "cell_type": "code",
   "execution_count": null,
   "id": "28403087-d808-43eb-8380-20722c5c64d0",
   "metadata": {},
   "outputs": [],
   "source": [
    "# USER SETTING\n",
    "RESULT_STEP_LENGTH = 200\n",
    "SKIPPING_INITIAL_PEAK_COUNT = 0\n",
    "MAX_OVERLAY_COUNT = sys.maxsize"
   ]
  },
  {
   "cell_type": "code",
   "execution_count": null,
   "id": "ac89eb60-7b01-48de-a97a-7ad35b9706c1",
   "metadata": {},
   "outputs": [],
   "source": [
    "resultV = np.array(RESULT_STEP_LENGTH)\n",
    "peakCount = 0\n",
    "overlayCount = 0\n",
    "\n",
    "# Add to resultV if peak found\n",
    "for i in range(1, len(inputV) - RESULT_STEP_LENGTH - 1):\n",
    "\n",
    "  if (MAX_OVERLAY_COUNT <= overlayCount):\n",
    "    print(\"Successfully stopped: overlayCount count reached MAX_OVERLAY_COUNT\")\n",
    "    break\n",
    "\n",
    "  lastStep = inputV[i - 1]\n",
    "  currentStep = inputV[i]\n",
    "  nextStep = inputV[i + 1]\n",
    "\n",
    "  # Simple peak detection\n",
    "  if (lastStep < currentStep and currentStep >= nextStep):\n",
    "    \n",
    "    peakCount += 1\n",
    "\n",
    "    # Skip when in skipping state \n",
    "    if (SKIPPING_INITIAL_PEAK_COUNT >= peakCount):\n",
    "      continue\n",
    "\n",
    "    # Overlay\n",
    "    overlayCount += 1\n",
    "    resultV = np.add(resultV, inputV[i : i + RESULT_STEP_LENGTH])\n",
    "\n",
    "# Print result\n",
    "if (SKIPPING_INITIAL_PEAK_COUNT > 0):\n",
    "  print(f\"Skipped  : {peakCount - overlayCount} / {SKIPPING_INITIAL_PEAK_COUNT}\")\n",
    "\n",
    "if (MAX_OVERLAY_COUNT == sys.maxsize):\n",
    "  print(f\"Overlayed: {overlayCount}\")\n",
    "else:\n",
    "  print(f\"Overlayed: {overlayCount} / {MAX_OVERLAY_COUNT}\")"
   ]
  },
  {
   "cell_type": "code",
   "execution_count": null,
   "id": "240c7550-49d1-4a05-889d-ed5ef91820e8",
   "metadata": {},
   "outputs": [],
   "source": [
    "df = pd.DataFrame(zip(inputT,resultV), columns =[\"t\", \"v\"])\n",
    "df.to_csv(OUTPUT_FILE_PATH, index=None)\n",
    "df.plot(x=\"t\", y=[\"v\"])"
   ]
  },
  {
   "cell_type": "code",
   "execution_count": null,
   "id": "193527d5",
   "metadata": {},
   "outputs": [],
   "source": []
  },
  {
   "cell_type": "markdown",
   "id": "7bedfa64",
   "metadata": {},
   "source": [
    "## Calc Attenuation Constant"
   ]
  },
  {
   "cell_type": "code",
   "execution_count": null,
   "id": "c4117739",
   "metadata": {},
   "outputs": [],
   "source": [
    "# USER SETTING\n",
    "CHECK_PEAK_COUNT = 5"
   ]
  },
  {
   "cell_type": "code",
   "execution_count": null,
   "id": "7c3bcd5b-5036-4759-b3fb-ad6a9820a41d",
   "metadata": {},
   "outputs": [],
   "source": [
    "peaks = []\n",
    "attenuations = []\n",
    "\n",
    "\n",
    "def AddPeak(t, v):\n",
    "  print(f\"Peak {len(peaks)}: t={t:.2f}, v={v:.2f}\")\n",
    "  peaks.append(v)\n",
    "\n",
    "AddPeak(inputT[0], resultV[0])\n",
    "\n",
    "# find peaks\n",
    "for i in range(1, len(resultV)-1):\n",
    "\n",
    "  if (CHECK_PEAK_COUNT <= len(peaks)):\n",
    "    break\n",
    "\n",
    "  lastStep = resultV[i - 1]\n",
    "  currentStep = resultV[i]\n",
    "  nextStep = resultV[i + 1]\n",
    "\n",
    "  # Simple peak detection\n",
    "  if (lastStep < currentStep and currentStep >= nextStep):\n",
    "    AddPeak(inputT[i], currentStep)\n",
    "\n",
    "\n",
    "# Calc attenuations\n",
    "print()\n",
    "for i in range(0, len(peaks)-1):\n",
    "  currentPeak = peaks[i]\n",
    "  nextPeak = peaks[i + 1]\n",
    "  attenuation = 1 / 2 / math.pi * math.log(currentPeak / nextPeak)\n",
    "  print(f\"Attenuation {i}: h={attenuation:.4f}\")\n",
    "  attenuations.append(attenuation)\n",
    "\n",
    "\n",
    "# Calc attenuation mean\n",
    "print()\n",
    "attenuationMean = sum(attenuations)/len(attenuations)\n",
    "print(f\"Attenuation mean: h={attenuationMean:.4f}\")"
   ]
  },
  {
   "cell_type": "code",
   "execution_count": null,
   "id": "5baa96fc",
   "metadata": {},
   "outputs": [],
   "source": []
  },
  {
   "cell_type": "markdown",
   "id": "b77db4ac",
   "metadata": {},
   "source": [
    "## Done"
   ]
  },
  {
   "cell_type": "code",
   "execution_count": null,
   "id": "fe914933",
   "metadata": {},
   "outputs": [],
   "source": []
  },
  {
   "cell_type": "code",
   "execution_count": null,
   "id": "e06762d6",
   "metadata": {},
   "outputs": [],
   "source": []
  }
 ],
 "metadata": {
  "interpreter": {
   "hash": "dfe435c2cc92a427c60ccf5c56fc8223912ede9784ecbffb655243598cc98b68"
  },
  "kernelspec": {
   "display_name": "Python 3.10.4 64-bit",
   "language": "python",
   "name": "python3"
  },
  "language_info": {
   "codemirror_mode": {
    "name": "ipython",
    "version": 3
   },
   "file_extension": ".py",
   "mimetype": "text/x-python",
   "name": "python",
   "nbconvert_exporter": "python",
   "pygments_lexer": "ipython3",
   "version": "3.10.4"
  }
 },
 "nbformat": 4,
 "nbformat_minor": 5
}
